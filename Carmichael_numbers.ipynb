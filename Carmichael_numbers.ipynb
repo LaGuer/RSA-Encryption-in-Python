{
 "cells": [
  {
   "cell_type": "code",
   "execution_count": 2,
   "metadata": {},
   "outputs": [
    {
     "name": "stdout",
     "output_type": "stream",
     "text": [
      "[561]\n",
      "[561, 1105, 1729, 2465, 2821, 6601, 8911]\n",
      "1\n",
      "7\n"
     ]
    }
   ],
   "source": [
    "import math as math\n",
    "import sympy as sympy\n",
    "def gcd( a, b) : \n",
    "    if (a < b) : \n",
    "        return gcd(b, a) \n",
    "    if (a % b == 0) : \n",
    "        return b \n",
    "    return gcd(b, a % b) \n",
    "\n",
    "def power(base, exponent, n):\n",
    "    base = sympy.Integer(base)\n",
    "    exponent = sympy.Integer(exponent)\n",
    "    is_neg = exponent < 0\n",
    "    if is_neg:\n",
    "        exponent = -exponent\n",
    "    n = sympy.Integer(n)\n",
    "    x = sympy.Integer(1)\n",
    "    e = exponent\n",
    "    c = sympy.Mod(base, n)\n",
    "    vals = [c]\n",
    "    x += 1\n",
    "    while x <= exponent:\n",
    "        c = sympy.Mod(c**2, n)\n",
    "        vals.append(c)\n",
    "        x *= 2\n",
    "\n",
    "    x /= 2\n",
    "    answer = sympy.Integer(1)\n",
    "    while len(vals) > 0:\n",
    "        nextv = vals.pop()\n",
    "        if x <= e:\n",
    "            answer = sympy.Mod(nextv*answer, n)\n",
    "            e -= x\n",
    "            if e == 0:\n",
    "                break\n",
    "        x /= 2\n",
    "    if is_neg:\n",
    "        answer = modinv(answer, n)\n",
    "    return answer\n",
    "\n",
    "def isCarmichaelNumber(num):\n",
    "    if math.gcd(2,num) == 1 and all(math.gcd(k,num) == 1 for k in\n",
    "                                    range(3, int(round(num**0.5)), 2)):\n",
    "        return 0\n",
    "    elif math.gcd(num, 2) == 1 and all(power(b, num, num)==b for b in\n",
    "                                       range(1, num)):\n",
    "        return 1\n",
    "    return 0\n",
    "\n",
    "def count_carmichael(a,b) : \n",
    "    count=0\n",
    "    for i in range(a,b):\n",
    "        count=count+isCarmichaelNumber(i)\n",
    "    return count\n",
    "\n",
    "def return_carmichael(a,b) : \n",
    "    carm=[]\n",
    "    for i in range(a,b):\n",
    "        if(isCarmichaelNumber(i)==1):\n",
    "            carm.append(i)\n",
    "    return carm\n",
    "  \n",
    "# カーマイケルの出力\n",
    "print(return_carmichael(2,1000) )\n",
    "print(return_carmichael(2,10000) )\n",
    "# カーマイケル数の数\n",
    "print(count_carmichael(2,1000) )\n",
    "print(count_carmichael(2,10000) )"
   ]
  }
 ],
 "metadata": {
  "kernelspec": {
   "display_name": "Python 3",
   "language": "python",
   "name": "python3"
  },
  "language_info": {
   "codemirror_mode": {
    "name": "ipython",
    "version": 3
   },
   "file_extension": ".py",
   "mimetype": "text/x-python",
   "name": "python",
   "nbconvert_exporter": "python",
   "pygments_lexer": "ipython3",
   "version": "3.7.3"
  }
 },
 "nbformat": 4,
 "nbformat_minor": 2
}
